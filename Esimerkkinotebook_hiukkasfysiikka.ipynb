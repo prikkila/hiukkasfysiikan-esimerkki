{
 "cells": [
  {
   "cell_type": "markdown",
   "metadata": {},
   "source": [
    "### Taustatietoja opettajalle"
   ]
  },
  {
   "cell_type": "markdown",
   "metadata": {},
   "source": [
    "Tämä notebook sisältää esimerkkitehtävän, jossa tutkitaan pseudorapiditeetin vaikutusta CMS-hiukkasilmaisimen mittatarkkuuteen.\n",
    "\n",
    "GitHubissa tai nbviewerissä avattaessa esimerkki on staattisessa muodossa, jolloin tarkastelu onnistuu myös ilman Jupyter Notebookin asennusta. Esimerkin voi myös ladata linkistä https://github.com/prikkila/hiukkasfysiikan-esimerkki painikkeella \"Clone or download\". Pakattu kansio sisältää myös datatiedoston ja kuvat, joita esimerkissä käytetään. Latauksen jälkeen esimerkin voi avata Jupyterissa, jolloin esimerkki toimii tarkoitetulla tavalla, interaktiivisesti.\n",
    "\n",
    "Opetuskäytössä tehtävä toteutetaan edellä mainitulla interaktiivisella tavalla Jupyterin avulla, jolloin oppilaat pääsevät muokkaamaan koodia, ja tarkastelemaan muokkauksen aiheuttamia muutoksia.\n",
    "\n",
    "Esimerkkitehtävä sisältää aluksi lyhyen teoriapaketin, ja tämän jälkeen käytännön osuuden."
   ]
  },
  {
   "cell_type": "markdown",
   "metadata": {},
   "source": [
    "# Pseudorapiditeetin $\\eta$ vaikutus CMS-ilmaisimen mittatarkkuuteen"
   ]
  },
  {
   "cell_type": "markdown",
   "metadata": {},
   "source": [
    "Tässä tehtävässä tutustutaan CMS-hiukkasilmaisimeen ja pseudorapiditeetin käsitteeseen. CMS-ilmaisimella kerätyn oikean datan avulla selvitetään, miten pseudorapiditeetin vaikutus ilmaisimen mittatarkkuuteen näkyy kokeellisissa tuloksissa."
   ]
  },
  {
   "cell_type": "markdown",
   "metadata": {},
   "source": [
    "## CMS-ilmaisin"
   ]
  },
  {
   "cell_type": "markdown",
   "metadata": {},
   "source": [
    "Alla olevassa kuvassa on Euroopan ydinfysiikan tutkimusjärjestö CERNissä sijaitseva CMS-hiukkasilmaisin avattuna. CERNin LHC-kiihdyttimellä kiihdytetään hiukkassuihkuja ja törmäytetään niitä toisiinsa. Hiukkasilmaisimet havaitsevat näissä törmäyksissä syntyneitä hiukkasia.\n",
    "\n",
    "<img src=\"CMS_avattu.jpg\" alt=\"CMS-ilmaisin avattuna\" style=\"height: 400px\">\n",
    "\n",
    "(Kuva: Domenico Salvagnin, https://commons.wikimedia.org/wiki/File:CMS@CERN.jpg)\n",
    "<br>\n",
    "<br>\n",
    "<br>"
   ]
  },
  {
   "cell_type": "markdown",
   "metadata": {},
   "source": [
    "## Pseudorapiditeetti"
   ]
  },
  {
   "cell_type": "markdown",
   "metadata": {},
   "source": [
    "Kokeellisessa hiukkasfysiikassa käytetään yhtenä koordinaattina pseudorapiditeettia $\\eta$ (lausutaan \"eeta\"). Pseudorapiditeetti määritellään lausekkella\n",
    "\n",
    "$$ \\eta \\equiv -\\ln(\\tan(\\frac{\\theta}{2})), $$\n",
    "\n",
    "\n",
    "jossa $\\theta$ on havaitun hiukkasen liikemäärän ja hiukkassuihkun välinen kulma.\n",
    "\n",
    "Pseudorapiditeetti kuvaa siis kulmaa, joka ilmaisimessa havaitulla hiukkasella on verrattuna hiukkassuihkuun. Alla olevassa kuvassa hiukkassuihku kulkisi vaakasuoraan vasemmalta oikealle, eli suurilla $\\eta$:n arvoilla törmäyksessä syntynyt hiukkanen poikkeaa vain pienellä kulmalla hiukkassuihkun suunnasta. Pienillä $\\eta$:n arvoilla poikkeama on taas suuri.\n",
    "\n",
    "<img src=\"Pseudorapidity_plot.svg\" alt=\"Pseudorapiditeetti\" style=\"height: 200px\">\n",
    "\n",
    "(Kuva: Wikimedia-käyttäjä Mets501, https://en.wikipedia.org/wiki/Pseudorapidity#/media/File:Pseudorapidity_plot.svg)\n",
    "<br>\n",
    "<br>\n",
    "<br>"
   ]
  },
  {
   "cell_type": "markdown",
   "metadata": {},
   "source": [
    "## Pseudorapiditeetin vaikutus mittatarkkuuteen"
   ]
  },
  {
   "cell_type": "markdown",
   "metadata": {},
   "source": [
    "CMS-ilmaisin pystyy mittaamaan esimerkiksi hiukkasten liikemääriä. Pseudorapiditeetti $\\eta$ vaikuttaa liikemäärän mittatarkkuuteen siten, että ilmaisimen keskiosaan osuneille hiukkasille (pieni $\\eta$) saadaan tarkempia arvoja kuin ilmaisimen päätyyn osuneille hiukkasille (suuri $\\eta$). Syy tälle on todennäköisesti se, että ilmaisimen päätyyn suuntautuneet hiukkaset kohtaavat matkalla enemmän muuta materiaalia (muita hiukkasia) kuin ilmaisimen keskiosaan osuneet hiukkaset. Vuorovaikutus muun materiaalin kanssa aiheuttaa epätarkkuutta päätyyn osuneiden hiukkasten liikemäärän mittaukseen.\n",
    "\n",
    "Alla oleva hahmotelma kuvaa törmäystilanteessa syntyneitä kahta hiukkasta, joista toinen osuu ilmaisimen keskiosaan ja toinen päätyyn. Kuvaan on merkitty sekä pseudorapiditeettien $\\eta$ että kulmien $\\theta$ arvot.\n",
    "\n",
    "<img src=\"Sylinteri.svg\" alt=\"Luonnos CMS-ilmaisimesta\" style=\"height: 600px\">\n"
   ]
  },
  {
   "cell_type": "markdown",
   "metadata": {},
   "source": [
    "## Lähdetäänpä tutkimaan!"
   ]
  },
  {
   "cell_type": "markdown",
   "metadata": {},
   "source": [
    "Lähdetään seuraavaksi tarkastelemaan, miten pseudorapiditeetin vaikutus mittatarkkuuteen voidaan havaita CMS-ilmaisimen keräämän oikean datan avulla. Käytetään CMS:n vuodelta 2011 kerättyä dataa, josta on valittu 10851 törmäystapahtumaa (events) tiedostoon \"Zmumu_Run2011A.csv\". (Karsinta on suoritettu koodilla, joka on avoimesti saatavilla osoitteessa https://github.com/tpmccauley/dimuon-filter.)\n",
    "\n",
    "Tiedostoon on valittu niitä törmäystapahtumia, joissa syntynyt Z-bosoni on hajonnut myoniksi $\\mu^-$ ja antimyoniksi $\\mu^+$. Ilmaisin on havainnut nämä myonit ja mitannut niiden liikemäärät.\n",
    "\n",
    "<img src=\"Z_hajoaminen.svg\" alt=\"Z-bosonin hajoaminen myoniksi ja antimyoniksi\" style=\"height: 200px\">\n",
    "\n",
    "Mittaustuloksista on laskettu jokaiselle tapahtumalle invariantti massa $M$. Invariantti massa on matemaattinen käsite, ei siis fysikaalinen massa, joka määritellään lausekkeella\n",
    "\n",
    "$$ M = \\sqrt{(E_1 + E_2)^2-(\\vec{p_1} + \\vec{p_2})^2}. $$\n",
    "\n",
    "Määritelmässä $E_1$ ja $E_2$ ovat myonien energiat, sekä $\\vec{p_1}$ ja $\\vec{p_2}$ niiden liikemäärävektorit.\n",
    "\n",
    "Tiedetään, että Z-bosonin massan tulisi olla yhtäsuuri kuin myoneille mitatuista arvoista ($E$ ja $\\vec{p}$) laskettu invariantti massa. Koska Z-bosonin massa on tunnettu (91,1876 GeV), voimme tarkastella kuinka eri tapahtumista määritetyt myonien invariantit massat osuvat tähän arvoon, eli kuinka tarkkoja mittaukset ovat olleet.\n",
    "\n",
    "Tarkastellaan eri tapahtumista laskettuja $M$:n arvoja luomalla niistä histogrammi. Histogrammi kertoo, kuinka monessa tapahtumassa $M$ saa arvon histogrammin pylvään määrittämältä väliltä. Histogrammin avulla voidaan nähdä, kuinka lähelle eri $M$:n arvot osuvat Z-bosonin massaa 91,1876 GeV.\n",
    "<br>\n",
    "<br>\n",
    "<br>"
   ]
  },
  {
   "cell_type": "markdown",
   "metadata": {},
   "source": [
    "## 1) Tapahtumien erottelu"
   ]
  },
  {
   "cell_type": "markdown",
   "metadata": {},
   "source": [
    "<img src=\"Pseudorapidity_plot.svg\" alt=\"Pseudorapiditeetti\" style=\"height: 200px\">\n",
    "\n",
    "Aluksi haluamme erotella kaikista tapahtumista kahteen ryhmään ne, joilla on suhteellisen suuri (esim. $\\eta$ > 1,52) ja suhteellisen pieni (esim. $\\eta$ < 0,45) pseudorapiditeetti. Suoritetaan erottelu alla olevalla koodilla. Jotta ilmaisimen mittatarkkuutta voitaisiin vertailla, kumpaankin ryhmään halutaan suurinpiirtein sama määrä tapahtumia.\n",
    "\n",
    "Koodin seassa on #-merkillä eroteltuja kommenttirivejä. Ne eivät vaikuta koodin toimintaan, vaan niiden avulla selitetään tarkemmin, mitä milläkin komennolla tehdään koodissa."
   ]
  },
  {
   "cell_type": "code",
   "execution_count": 2,
   "metadata": {
    "collapsed": false
   },
   "outputs": [
    {
     "name": "stdout",
     "output_type": "stream",
     "text": [
      "\n",
      "\n",
      "\n",
      "Kaikkien tapahtumien lukumäärä = 10851\n",
      "Tapahtumien lukumäärä, joissa kummankin myonin pseudorapiditeetti on suuri = 615\n",
      "Tapahtumien lukumäärä, joissa kummankin myonin pseudorapiditeetti on pieni = 603\n"
     ]
    }
   ],
   "source": [
    "# Haetaan tarvittavat moduulit. Pandas on data-analyysimoduuli, numpy tieteellisen laskennan moduuli ja matplotlib.pyplot\n",
    "# mahdollistaa kuvaajien piirtämisen. Annetaan näille kaikille lyhyemmät nimet (pd, np ja plt), jotta myöhemmin niitä\n",
    "# käytettäessä ei tarvitse kirjoittaa koko moduulin nimeä. \n",
    "import pandas as pd\n",
    "import numpy as np\n",
    "import matplotlib.pyplot as plt\n",
    "\n",
    "# Luodaan uusi DataFrame-rakenne CMS:n mittausdataa sisältävästä tiedostosta \"Zmumu_Run2011A.csv\". Tiedosto sisältää\n",
    "# mitattuja ja laskettuja arvoja 10851:lle törmäystapahtumalle.\n",
    "# Nimetään luotu DataFrame \"datasetiksi\".\n",
    "datasetti = pd.read_csv('Zmumu_Run2011A.csv')\n",
    "\n",
    "# Luodaan kaksi muuttujaa, \"ehto1\" ja \"ehto2\". Asetetaan näihin ehdot suurille ja pienille eetoille.\n",
    "# Voit muuttaa karsintaehtoja ja katsoa, miten tapahtumien lukumäärä muuttuu. Valitse kuitenkin sellaiset ehdot,\n",
    "# että suuren ja pienen pseudorapiditeetin tapahtumia on suurinpiirtein sama määrä.\n",
    "ehto1 = 1.52\n",
    "ehto2 = 0.45\n",
    "\n",
    "# Luodaan kaksi muuta DataFramea, \"suuret_eetat\" ja \"pienet_eetat\". Valitaan nimiensä mukaisesti toiseen\n",
    "# ne tapahtumat (events) \"datasetistä\", joissa kummankin myonin pseudorapiditeetin itseisarvo on suuri, ja toiseen ne,\n",
    "# joiden pieni.\n",
    "suuret_eetat = datasetti[(np.absolute(datasetti.eta1) > ehto1) & (np.absolute(datasetti.eta2) > ehto1)]\n",
    "pienet_eetat = datasetti[(np.absolute(datasetti.eta1) < ehto2) & (np.absolute(datasetti.eta2) < ehto2)]\n",
    "\n",
    "# Tarkastetaan, kuinka monta tapahtumaa kuhunkin ryhmään tuli tulostamalla alle tekstiä ja tapahtumien lukumäärät.\n",
    "# Ensimmäinen komento tulostaa kaksi tyhjää riviä muotoiluseikkojen takia.\n",
    "print('\\n' * 2)\n",
    "print(\"Kaikkien tapahtumien lukumäärä = %d\" % len(datasetti))\n",
    "print(\"Tapahtumien lukumäärä, joissa kummankin myonin pseudorapiditeetti on suuri = %d\" % len(suuret_eetat))\n",
    "print(\"Tapahtumien lukumäärä, joissa kummankin myonin pseudorapiditeetti on pieni = %d\" % len(pienet_eetat))"
   ]
  },
  {
   "cell_type": "markdown",
   "metadata": {},
   "source": [
    "## 2) Histogrammien luominen"
   ]
  },
  {
   "cell_type": "markdown",
   "metadata": {},
   "source": [
    "Seuraavaksi haluamme luoda invariantin massan histogrammit suurien ja pienien pseudorapiditeettien tapahtumista, jotta voimme vertailla niitä."
   ]
  },
  {
   "cell_type": "markdown",
   "metadata": {},
   "source": [
    "### Histogrammi tapahtumille, joissa myoneilla on suuri $\\eta$ (ilmaisimen päätyyn osuneet)"
   ]
  },
  {
   "cell_type": "markdown",
   "metadata": {},
   "source": [
    "Aloitetaan ensin tapahtumilla, joissa $\\eta$ on suuri. Koodin seassa olevat kommenttirivit kuvaavat koodin toimintaa."
   ]
  },
  {
   "cell_type": "code",
   "execution_count": 6,
   "metadata": {
    "collapsed": false
   },
   "outputs": [
    {
     "data": {
      "image/png": "[encoded data removed]",
      "text/plain": [
       "<matplotlib.figure.Figure at 0xb1b84b4c>"
      ]
     },
     "metadata": {},
     "output_type": "display_data"
    }
   ],
   "source": [
    "# Valitaan \"suuret_eetat\"-DataFramesta sarake \"M\", johon on kirjattu tapahtumista laskettu invariantti massa.\n",
    "# Nimetään tämä \"inv_massa1\":ksi.\n",
    "inv_massa1 = suuret_eetat[\"M\"]\n",
    "\n",
    "# Käytetään numpy-paketin historgam-funktiota, ja luodaan histogrammi \"suuret_eetat\" -tulosten invarianteista massoista,\n",
    "# jotka tallennettiin edellä muuttujaan \"inv_massa1\". Nimetään histogrammi \"histogrammi1\":ksi.\n",
    "histogrammi1 = np.histogram(inv_massa1, bins=120, range=(60,120))\n",
    "\n",
    "# Jupyter Notebookissa on valmiiksi määritettyjä \"magic function\" -komentoja. Tämän avulla histogrammi saadaan näkymään\n",
    "# suoraan notebookissa.\n",
    "%matplotlib inline\n",
    "\n",
    "# Valmistellaan histogrammin piirtoa matplotlib.pyplot-pakettia varten. Määritetään histogrammin palkkien leveys sekä\n",
    "# histogrammin keskikohta.\n",
    "hist1, bins1 = histogrammi1\n",
    "width1 = 1.0*(bins1[1] - bins1[0])\n",
    "center1 = (bins1[:-1] + bins1[1:])/2\n",
    "\n",
    "# Plotataan histogrammi matplotlib.pyplotin avulla. Nimetään x- ja y-akselit.\n",
    "plt.bar(center1, hist1, align='center', width=width1)\n",
    "plt.xlabel('Invariantti massa [GeV]')\n",
    "plt.ylabel('Tapahtumien lukumäärä pylvästä kohti')\n",
    "plt.title('Invariantin massan histogrammi tapahtumista, joissa kummankin myonin pseudorapiditeetti on ollut suuri \\n')\n",
    "\n",
    "# Asetetaan y-akselin skaalaksi 0-60\n",
    "axes = plt.gca()\n",
    "axes.set_ylim([0,60])\n",
    "\n",
    "# Asetetaan histogrammin näkyväksi.\n",
    "plt.show()"
   ]
  },
  {
   "cell_type": "markdown",
   "metadata": {},
   "source": [
    "### Histogrammi tapahtumille, joissa myoneilla on pieni $\\eta$ (ilmaisimen keskiosaan osuneet)"
   ]
  },
  {
   "cell_type": "markdown",
   "metadata": {},
   "source": [
    "Vastaavasti kuin edellä, luodaan histogrammi tapahtumille, joissa $\\eta$ on pieni."
   ]
  },
  {
   "cell_type": "code",
   "execution_count": 7,
   "metadata": {
    "collapsed": false
   },
   "outputs": [
    {
     "data": {
      "image/png": "[encoded data removed]",
      "text/plain": [
       "<matplotlib.figure.Figure at 0xa994450c>"
      ]
     },
     "metadata": {},
     "output_type": "display_data"
    }
   ],
   "source": [
    "inv_massa2 = pienet_eetat[\"M\"]\n",
    "\n",
    "histogrammi2 = np.histogram(inv_massa2, bins=120, range=(60,120))\n",
    "\n",
    "%matplotlib inline\n",
    "\n",
    "hist2, bins2 = histogrammi2\n",
    "width2 = 1.0*(bins2[1] - bins2[0])\n",
    "center2 = (bins2[:-1] + bins2[1:])/2\n",
    "\n",
    "plt.bar(center2, hist2, align='center', width=width2)\n",
    "plt.xlabel('Invariantti massa [GeV]')\n",
    "plt.ylabel('Tapahtumien lukumäärä pylvästä kohti')\n",
    "plt.title('Invariantin massan histogrammi tapahtumista, joissa kummankin myonin pseudorapiditeetti on ollut pieni \\n')\n",
    "\n",
    "axes = plt.gca()\n",
    "axes.set_ylim([0,60])\n",
    "\n",
    "plt.show()"
   ]
  },
  {
   "cell_type": "markdown",
   "metadata": {},
   "source": [
    "## 3) Tehtävä"
   ]
  },
  {
   "cell_type": "markdown",
   "metadata": {},
   "source": [
    "Nyt olemme luoneet CMS-ilmaisimen kokeilla kerätyn oikean datan avulla kaksi invariantin massan $M$ histogrammia. Pohdi niiden ja notebookin teoriaosan avulla seuraavia kysymyksiä:<br><br> __Millä tavalla voit havaita piirretyistä histogrammeista pseudorapiditeetin vaikutuksen CMS-ilmaisimen mittatarkkuuteen?__<br>\n",
    "__Osuvatko siis kokeelliset tulokset yhteen teorian kanssa?__<br>\n",
    "<br>\n",
    "Kokeile lopuksi muuttaa ensimmäisessä koodisolussa olevia ehtoja \"ehto1\" ja \"ehto2\" sille, mikä on suuri pseudorapiditeetti, ja mikä pieni. Valitse kuitenkin sellaiset ehdot, että suuren ja pienen pseudorapiditeetin tapahtumia on suurinpiirtein sama määrä.\n",
    "\n",
    "Muutosten jälkeen aja jokainen koodisolu näppäinyhdistelmällä Ctrl + Enter. Miten muutokset näkyvät tapahtumien lukumäärissä? Entä miten histogrammeissa?\n"
   ]
  }
 ],
 "metadata": {
  "kernelspec": {
   "display_name": "Python 3",
   "language": "python",
   "name": "python3"
  },
  "language_info": {
   "codemirror_mode": {
    "name": "ipython",
    "version": 3
   },
   "file_extension": ".py",
   "mimetype": "text/x-python",
   "name": "python",
   "nbconvert_exporter": "python",
   "pygments_lexer": "ipython3",
   "version": "3.5.1"
  }
 },
 "nbformat": 4,
 "nbformat_minor": 0
}
